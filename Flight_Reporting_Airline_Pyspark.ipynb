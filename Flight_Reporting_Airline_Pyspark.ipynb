{
 "cells": [
  {
   "cell_type": "code",
   "execution_count": 7,
   "id": "b312c8cb",
   "metadata": {},
   "outputs": [
    {
     "name": "stdout",
     "output_type": "stream",
     "text": [
      "Current Working Directory: C:\\Users\\Khaled Abouzeid\n"
     ]
    }
   ],
   "source": [
    "import os\n",
    "\n",
    "# Get the current working directory\n",
    "current_directory = os.getcwd()\n",
    "\n",
    "# Print the current working directory\n",
    "print(\"Current Working Directory:\", current_directory)"
   ]
  },
  {
   "cell_type": "code",
   "execution_count": 1,
   "id": "b7c12ff6",
   "metadata": {},
   "outputs": [],
   "source": [
    "import pyspark"
   ]
  },
  {
   "cell_type": "code",
   "execution_count": 2,
   "id": "bb2f53f0",
   "metadata": {},
   "outputs": [],
   "source": [
    "from pyspark.sql import SparkSession"
   ]
  },
  {
   "cell_type": "code",
   "execution_count": 4,
   "id": "2d49c242",
   "metadata": {},
   "outputs": [],
   "source": [
    "spark=SparkSession.builder.appName(\"business_case_sql\").getOrCreate()"
   ]
  },
  {
   "cell_type": "code",
   "execution_count": 9,
   "id": "5ca42ef5",
   "metadata": {},
   "outputs": [],
   "source": [
    "AirlineDF = spark.read.option(\"header\",\"true\").csv(\"Data/airlines1.csv\")"
   ]
  },
  {
   "cell_type": "markdown",
   "id": "e6ae19e9",
   "metadata": {},
   "source": [
    "# To Register dataframe as a table"
   ]
  },
  {
   "cell_type": "code",
   "execution_count": 11,
   "id": "48e9ca92",
   "metadata": {},
   "outputs": [],
   "source": [
    "AirlineDF.createGlobalTempView(\"AirlineTable\")"
   ]
  },
  {
   "cell_type": "code",
   "execution_count": 12,
   "id": "96264191",
   "metadata": {},
   "outputs": [
    {
     "name": "stdout",
     "output_type": "stream",
     "text": [
      "+---+----+-------+-----+----------+---------+----------+-----------------+------------------------+---------------------------+-----------+-------------------------------+---------------+------------------+------------------+------+------------------+-----------+---------------+---------------+---------+-------------+----------------+----------------+----+--------------------+---------+-------------+--------------+-------+----------+-------+--------+---------------+--------+--------------------+----------+-------+---------+--------+------+----------+-------+--------+---------------+--------+------------------+----------+---------+----------------+--------+--------------+-----------------+-------+-------+--------+-------------+------------+------------+--------+-------------+-----------------+------------+-------------+---------------+------------------+--------------+--------------------+-----------+-----------+-----------+-------------+----------------+------------+--------------+----------------+-------------+-----------+-----------+-------------+----------------+------------+--------------+----------------+-------------+-----------+-----------+-------------+----------------+------------+--------------+----------------+-------------+-----------+-----------+-------------+----------------+------------+--------------+----------------+-------------+-----------+-----------+-------------+----------------+------------+--------------+----------------+-------------+-----------+\n",
      "|_c0|Year|Quarter|Month|DayofMonth|DayOfWeek|FlightDate|Reporting_Airline|DOT_ID_Reporting_Airline|IATA_CODE_Reporting_Airline|Tail_Number|Flight_Number_Reporting_Airline|OriginAirportID|OriginAirportSeqID|OriginCityMarketID|Origin|    OriginCityName|OriginState|OriginStateFips|OriginStateName|OriginWac|DestAirportID|DestAirportSeqID|DestCityMarketID|Dest|        DestCityName|DestState|DestStateFips| DestStateName|DestWac|CRSDepTime|DepTime|DepDelay|DepDelayMinutes|DepDel15|DepartureDelayGroups|DepTimeBlk|TaxiOut|WheelsOff|WheelsOn|TaxiIn|CRSArrTime|ArrTime|ArrDelay|ArrDelayMinutes|ArrDel15|ArrivalDelayGroups|ArrTimeBlk|Cancelled|CancellationCode|Diverted|CRSElapsedTime|ActualElapsedTime|AirTime|Flights|Distance|DistanceGroup|CarrierDelay|WeatherDelay|NASDelay|SecurityDelay|LateAircraftDelay|FirstDepTime|TotalAddGTime|LongestAddGTime|DivAirportLandings|DivReachedDest|DivActualElapsedTime|DivArrDelay|DivDistance|Div1Airport|Div1AirportID|Div1AirportSeqID|Div1WheelsOn|Div1TotalGTime|Div1LongestGTime|Div1WheelsOff|Div1TailNum|Div2Airport|Div2AirportID|Div2AirportSeqID|Div2WheelsOn|Div2TotalGTime|Div2LongestGTime|Div2WheelsOff|Div2TailNum|Div3Airport|Div3AirportID|Div3AirportSeqID|Div3WheelsOn|Div3TotalGTime|Div3LongestGTime|Div3WheelsOff|Div3TailNum|Div4Airport|Div4AirportID|Div4AirportSeqID|Div4WheelsOn|Div4TotalGTime|Div4LongestGTime|Div4WheelsOff|Div4TailNum|Div5Airport|Div5AirportID|Div5AirportSeqID|Div5WheelsOn|Div5TotalGTime|Div5LongestGTime|Div5WheelsOff|Div5TailNum|\n",
      "+---+----+-------+-----+----------+---------+----------+-----------------+------------------------+---------------------------+-----------+-------------------------------+---------------+------------------+------------------+------+------------------+-----------+---------------+---------------+---------+-------------+----------------+----------------+----+--------------------+---------+-------------+--------------+-------+----------+-------+--------+---------------+--------+--------------------+----------+-------+---------+--------+------+----------+-------+--------+---------------+--------+------------------+----------+---------+----------------+--------+--------------+-----------------+-------+-------+--------+-------------+------------+------------+--------+-------------+-----------------+------------+-------------+---------------+------------------+--------------+--------------------+-----------+-----------+-----------+-------------+----------------+------------+--------------+----------------+-------------+-----------+-----------+-------------+----------------+------------+--------------+----------------+-------------+-----------+-----------+-------------+----------------+------------+--------------+----------------+-------------+-----------+-----------+-------------+----------------+------------+--------------+----------------+-------------+-----------+-----------+-------------+----------------+------------+--------------+----------------+-------------+-----------+\n",
      "|  0|1998|      1|    1|         2|        5|1998-01-02|               NW|                   19386|                         NW|     N297US|                            675|          13487|           1348701|             31650|   MSP|   Minneapolis, MN|         MN|           27.0|      Minnesota|       63|        14869|         1486902|           34614| SLC|  Salt Lake City, UT|       UT|         49.0|          Utah|     87|      1640| 1659.0|    19.0|           19.0|     1.0|                 1.0| 1600-1659|   24.0|   1723.0|  1856.0|   3.0|      1836| 1859.0|    23.0|           23.0|     1.0|               1.0| 1800-1859|      0.0|            NULL|     0.0|         176.0|            180.0|  153.0|    1.0|   991.0|            4|        NULL|        NULL|    NULL|         NULL|             NULL|        NULL|         NULL|           NULL|              NULL|          NULL|                NULL|       NULL|       NULL|       NULL|         NULL|            NULL|        NULL|          NULL|            NULL|         NULL|       NULL|       NULL|         NULL|            NULL|        NULL|          NULL|            NULL|         NULL|       NULL|       NULL|         NULL|            NULL|        NULL|          NULL|            NULL|         NULL|       NULL|       NULL|         NULL|            NULL|        NULL|          NULL|            NULL|         NULL|       NULL|       NULL|         NULL|            NULL|        NULL|          NULL|            NULL|         NULL|       NULL|\n",
      "|  1|2009|      2|    5|        28|        4|2009-05-28|               FL|                   20437|                         FL|     N946AT|                            671|          13342|           1334202|             33342|   MKE|     Milwaukee, WI|         WI|           55.0|      Wisconsin|       45|        13204|         1320401|           31454| MCO|         Orlando, FL|       FL|         12.0|       Florida|     33|      1204| 1202.0|    -2.0|            0.0|     0.0|                -1.0| 1200-1259|   10.0|   1212.0|  1533.0|   8.0|      1541| 1541.0|     0.0|            0.0|     0.0|               0.0| 1500-1559|      0.0|            NULL|     0.0|         157.0|            159.0|  141.0|    1.0|  1066.0|            5|        NULL|        NULL|    NULL|         NULL|             NULL|        NULL|         NULL|           NULL|               0.0|          NULL|                NULL|       NULL|       NULL|       NULL|         NULL|            NULL|        NULL|          NULL|            NULL|         NULL|       NULL|       NULL|         NULL|            NULL|        NULL|          NULL|            NULL|         NULL|       NULL|       NULL|         NULL|            NULL|        NULL|          NULL|            NULL|         NULL|       NULL|       NULL|         NULL|            NULL|        NULL|          NULL|            NULL|         NULL|       NULL|       NULL|         NULL|            NULL|        NULL|          NULL|            NULL|         NULL|       NULL|\n",
      "|  2|2013|      2|    6|        29|        6|2013-06-29|               MQ|                   20398|                         MQ|     N665MQ|                           3297|          11921|           1192102|             31921|   GJT|Grand Junction, CO|         CO|            8.0|       Colorado|       82|        11298|         1129803|           30194| DFW|Dallas/Fort Worth...|       TX|         48.0|         Texas|     74|      1630| 1644.0|    14.0|           14.0|     0.0|                 0.0| 1600-1659|    9.0|   1653.0|  1936.0|   6.0|      1945| 1942.0|    -3.0|            0.0|     0.0|              -1.0| 1900-1959|      0.0|            NULL|     0.0|         135.0|            118.0|  103.0|    1.0|   773.0|            4|        NULL|        NULL|    NULL|         NULL|             NULL|        NULL|         NULL|           NULL|               0.0|          NULL|                NULL|       NULL|       NULL|       NULL|         NULL|            NULL|        NULL|          NULL|            NULL|         NULL|       NULL|       NULL|         NULL|            NULL|        NULL|          NULL|            NULL|         NULL|       NULL|       NULL|         NULL|            NULL|        NULL|          NULL|            NULL|         NULL|       NULL|       NULL|         NULL|            NULL|        NULL|          NULL|            NULL|         NULL|       NULL|       NULL|         NULL|            NULL|        NULL|          NULL|            NULL|         NULL|       NULL|\n",
      "|  3|2010|      3|    8|        31|        2|2010-08-31|               DL|                   19790|                         DL|     N6705Y|                           1806|          12892|           1289201|             32575|   LAX|   Los Angeles, CA|         CA|            6.0|     California|       91|        11433|         1143301|           31295| DTW|         Detroit, MI|       MI|         26.0|      Michigan|     43|      1305| 1305.0|     0.0|            0.0|     0.0|                 0.0| 1300-1359|   23.0|   1328.0|  2008.0|   7.0|      2035| 2015.0|   -20.0|            0.0|     0.0|              -2.0| 2000-2059|      0.0|            NULL|     0.0|         270.0|            250.0|  220.0|    1.0|  1979.0|            8|        NULL|        NULL|    NULL|         NULL|             NULL|        NULL|         NULL|           NULL|               0.0|          NULL|                NULL|       NULL|       NULL|       NULL|         NULL|            NULL|        NULL|          NULL|            NULL|         NULL|       NULL|       NULL|         NULL|            NULL|        NULL|          NULL|            NULL|         NULL|       NULL|       NULL|         NULL|            NULL|        NULL|          NULL|            NULL|         NULL|       NULL|       NULL|         NULL|            NULL|        NULL|          NULL|            NULL|         NULL|       NULL|       NULL|         NULL|            NULL|        NULL|          NULL|            NULL|         NULL|       NULL|\n",
      "|  4|2006|      1|    1|        15|        7|2006-01-15|               US|                   20355|                         US|     N504AU|                            465|          11618|           1161801|             31703|   EWR|        Newark, NJ|         NJ|           34.0|     New Jersey|       21|        11057|         1105702|           31057| CLT|       Charlotte, NC|       NC|         37.0|North Carolina|     36|      1820| 1911.0|    51.0|           51.0|     1.0|                 3.0| 1800-1859|   19.0|   1930.0|  2050.0|   8.0|      2026| 2058.0|    32.0|           32.0|     1.0|               2.0| 2000-2059|      0.0|            NULL|     0.0|         126.0|            107.0|   80.0|    1.0|   529.0|            3|         0.0|         0.0|     0.0|          0.0|             32.0|        NULL|         NULL|           NULL|              NULL|          NULL|                NULL|       NULL|       NULL|       NULL|         NULL|            NULL|        NULL|          NULL|            NULL|         NULL|       NULL|       NULL|         NULL|            NULL|        NULL|          NULL|            NULL|         NULL|       NULL|       NULL|         NULL|            NULL|        NULL|          NULL|            NULL|         NULL|       NULL|       NULL|         NULL|            NULL|        NULL|          NULL|            NULL|         NULL|       NULL|       NULL|         NULL|            NULL|        NULL|          NULL|            NULL|         NULL|       NULL|\n",
      "+---+----+-------+-----+----------+---------+----------+-----------------+------------------------+---------------------------+-----------+-------------------------------+---------------+------------------+------------------+------+------------------+-----------+---------------+---------------+---------+-------------+----------------+----------------+----+--------------------+---------+-------------+--------------+-------+----------+-------+--------+---------------+--------+--------------------+----------+-------+---------+--------+------+----------+-------+--------+---------------+--------+------------------+----------+---------+----------------+--------+--------------+-----------------+-------+-------+--------+-------------+------------+------------+--------+-------------+-----------------+------------+-------------+---------------+------------------+--------------+--------------------+-----------+-----------+-----------+-------------+----------------+------------+--------------+----------------+-------------+-----------+-----------+-------------+----------------+------------+--------------+----------------+-------------+-----------+-----------+-------------+----------------+------------+--------------+----------------+-------------+-----------+-----------+-------------+----------------+------------+--------------+----------------+-------------+-----------+-----------+-------------+----------------+------------+--------------+----------------+-------------+-----------+\n",
      "only showing top 5 rows\n",
      "\n"
     ]
    }
   ],
   "source": [
    "spark.sql(\"select * from AirlineTable\").show(5)"
   ]
  },
  {
   "cell_type": "code",
   "execution_count": 13,
   "id": "4095414b",
   "metadata": {},
   "outputs": [
    {
     "name": "stdout",
     "output_type": "stream",
     "text": [
      "+--------+\n",
      "|count(1)|\n",
      "+--------+\n",
      "|   50001|\n",
      "+--------+\n",
      "\n"
     ]
    }
   ],
   "source": [
    "spark.sql(\"select count(*) from AirlineTable\").show(5)"
   ]
  },
  {
   "cell_type": "code",
   "execution_count": 14,
   "id": "1ed3487d",
   "metadata": {
    "scrolled": true
   },
   "outputs": [
    {
     "name": "stdout",
     "output_type": "stream",
     "text": [
      "+--------------------+---------+-------+\n",
      "|            col_name|data_type|comment|\n",
      "+--------------------+---------+-------+\n",
      "|                 _c0|   string|   NULL|\n",
      "|                Year|   string|   NULL|\n",
      "|             Quarter|   string|   NULL|\n",
      "|               Month|   string|   NULL|\n",
      "|          DayofMonth|   string|   NULL|\n",
      "|           DayOfWeek|   string|   NULL|\n",
      "|          FlightDate|   string|   NULL|\n",
      "|   Reporting_Airline|   string|   NULL|\n",
      "|DOT_ID_Reporting_...|   string|   NULL|\n",
      "|IATA_CODE_Reporti...|   string|   NULL|\n",
      "|         Tail_Number|   string|   NULL|\n",
      "|Flight_Number_Rep...|   string|   NULL|\n",
      "|     OriginAirportID|   string|   NULL|\n",
      "|  OriginAirportSeqID|   string|   NULL|\n",
      "|  OriginCityMarketID|   string|   NULL|\n",
      "|              Origin|   string|   NULL|\n",
      "|      OriginCityName|   string|   NULL|\n",
      "|         OriginState|   string|   NULL|\n",
      "|     OriginStateFips|   string|   NULL|\n",
      "|     OriginStateName|   string|   NULL|\n",
      "|           OriginWac|   string|   NULL|\n",
      "|       DestAirportID|   string|   NULL|\n",
      "|    DestAirportSeqID|   string|   NULL|\n",
      "|    DestCityMarketID|   string|   NULL|\n",
      "|                Dest|   string|   NULL|\n",
      "|        DestCityName|   string|   NULL|\n",
      "|           DestState|   string|   NULL|\n",
      "|       DestStateFips|   string|   NULL|\n",
      "|       DestStateName|   string|   NULL|\n",
      "|             DestWac|   string|   NULL|\n",
      "|          CRSDepTime|   string|   NULL|\n",
      "|             DepTime|   string|   NULL|\n",
      "|            DepDelay|   string|   NULL|\n",
      "|     DepDelayMinutes|   string|   NULL|\n",
      "|            DepDel15|   string|   NULL|\n",
      "|DepartureDelayGroups|   string|   NULL|\n",
      "|          DepTimeBlk|   string|   NULL|\n",
      "|             TaxiOut|   string|   NULL|\n",
      "|           WheelsOff|   string|   NULL|\n",
      "|            WheelsOn|   string|   NULL|\n",
      "|              TaxiIn|   string|   NULL|\n",
      "|          CRSArrTime|   string|   NULL|\n",
      "|             ArrTime|   string|   NULL|\n",
      "|            ArrDelay|   string|   NULL|\n",
      "|     ArrDelayMinutes|   string|   NULL|\n",
      "|            ArrDel15|   string|   NULL|\n",
      "|  ArrivalDelayGroups|   string|   NULL|\n",
      "|          ArrTimeBlk|   string|   NULL|\n",
      "|           Cancelled|   string|   NULL|\n",
      "|    CancellationCode|   string|   NULL|\n",
      "+--------------------+---------+-------+\n",
      "only showing top 50 rows\n",
      "\n"
     ]
    }
   ],
   "source": [
    "spark.sql(\"describe AirlineTable\").show(50)"
   ]
  },
  {
   "cell_type": "code",
   "execution_count": 15,
   "id": "378eda05",
   "metadata": {},
   "outputs": [
    {
     "name": "stdout",
     "output_type": "stream",
     "text": [
      "+------+--------------------+\n",
      "|origin|        DestCityName|\n",
      "+------+--------------------+\n",
      "|   MSP|  Salt Lake City, UT|\n",
      "|   MKE|         Orlando, FL|\n",
      "|   GJT|Dallas/Fort Worth...|\n",
      "|   LAX|         Detroit, MI|\n",
      "|   EWR|       Charlotte, NC|\n",
      "+------+--------------------+\n",
      "only showing top 5 rows\n",
      "\n"
     ]
    }
   ],
   "source": [
    "spark.sql(\"select origin, DestCityName from AirlineTable\").show(5)"
   ]
  },
  {
   "cell_type": "code",
   "execution_count": 17,
   "id": "4719955a",
   "metadata": {},
   "outputs": [
    {
     "name": "stdout",
     "output_type": "stream",
     "text": [
      "+------------------+\n",
      "|    Avg_Delay_Time|\n",
      "+------------------+\n",
      "|10.851455322613475|\n",
      "+------------------+\n",
      "\n"
     ]
    }
   ],
   "source": [
    "spark.sql(\"select avg(DepDelayMinutes) as Avg_Delay_Time from AirlineTable\").show(5)"
   ]
  },
  {
   "cell_type": "code",
   "execution_count": 20,
   "id": "d6a8597e",
   "metadata": {},
   "outputs": [
    {
     "name": "stdout",
     "output_type": "stream",
     "text": [
      "+-------------------------------+-----------+\n",
      "|Flight_Number_Reporting_Airline|Total_Delay|\n",
      "+-------------------------------+-----------+\n",
      "|                            675|       42.0|\n",
      "|                            671|       -2.0|\n",
      "|                           3297|       11.0|\n",
      "|                           1806|      -20.0|\n",
      "|                            465|       83.0|\n",
      "|                           1198|       11.0|\n",
      "|                           1431|       -2.0|\n",
      "|                           3459|      435.0|\n",
      "|                           7233|       12.0|\n",
      "|                           5932|       45.0|\n",
      "|                           2135|        8.0|\n",
      "|                           1463|       -5.0|\n",
      "|                            830|      -13.0|\n",
      "|                           6474|      -23.0|\n",
      "|                            674|      -21.0|\n",
      "|                            362|       10.0|\n",
      "|                           1678|      -18.0|\n",
      "|                            413|      -35.0|\n",
      "|                            210|      -17.0|\n",
      "|                            995|       NULL|\n",
      "+-------------------------------+-----------+\n",
      "only showing top 20 rows\n",
      "\n"
     ]
    }
   ],
   "source": [
    "spark.sql(\"select Flight_Number_Reporting_Airline,DepDelay+ArrDelay as Total_Delay from AirlineTable\").show()"
   ]
  },
  {
   "cell_type": "code",
   "execution_count": 24,
   "id": "7bb2df43",
   "metadata": {},
   "outputs": [
    {
     "name": "stdout",
     "output_type": "stream",
     "text": [
      "+------+--------+--------------------+--------------------+\n",
      "|origin|count(1)|avg(DepDelayMinutes)|max(DepDelayMinutes)|\n",
      "+------+--------+--------------------+--------------------+\n",
      "|   ABE|      49|   6.659574468085107|                44.0|\n",
      "|   ABI|      11|  0.5555555555555556|                 4.0|\n",
      "|   ABQ|     290|   9.041958041958042|                 9.0|\n",
      "|   ABR|       3|               284.0|               852.0|\n",
      "|   ABY|       3|                20.0|                30.0|\n",
      "|   ACK|       1|                 0.0|                 0.0|\n",
      "|   ACT|      16|              3.1875|                33.0|\n",
      "|   ACV|      14|   7.071428571428571|                 7.0|\n",
      "|   ACY|       5|                 7.6|                38.0|\n",
      "|   ADK|       2|                 6.5|                13.0|\n",
      "|   ADQ|       4|   4.666666666666667|                14.0|\n",
      "|   AEX|      11|   8.090909090909092|                34.0|\n",
      "|   AGS|      27|  23.814814814814813|                64.0|\n",
      "|   AKN|       2|                 9.5|                 4.0|\n",
      "|   ALB|     111|  7.5504587155963305|                 9.0|\n",
      "|   ALO|       3|                 0.0|                 0.0|\n",
      "|   AMA|      47|   9.065217391304348|                72.0|\n",
      "|   ANC|     146|  11.282758620689656|                 9.0|\n",
      "|   APN|       2|                 0.0|                 0.0|\n",
      "|   ART|       1|                 0.0|                 0.0|\n",
      "+------+--------+--------------------+--------------------+\n",
      "only showing top 20 rows\n",
      "\n"
     ]
    }
   ],
   "source": [
    "spark.sql(\"select origin,count(*),avg(DepDelayMinutes), max(DepDelayMinutes) from AirlineTable group by origin\").show()"
   ]
  },
  {
   "cell_type": "code",
   "execution_count": 25,
   "id": "f73ad244",
   "metadata": {},
   "outputs": [
    {
     "name": "stdout",
     "output_type": "stream",
     "text": [
      "+-----------+----------------+\n",
      "|OriginState|count(cancelled)|\n",
      "+-----------+----------------+\n",
      "|         SC|               8|\n",
      "|         AZ|              12|\n",
      "|         MN|              26|\n",
      "|         NJ|              27|\n",
      "|         OR|               5|\n",
      "|         VA|              41|\n",
      "|         RI|               4|\n",
      "|         KY|              15|\n",
      "|         MI|              24|\n",
      "|         NV|              10|\n",
      "|         WI|               6|\n",
      "|         CA|              99|\n",
      "|         NE|               2|\n",
      "|         NC|              31|\n",
      "|         MO|              20|\n",
      "|         IL|              76|\n",
      "|         ND|               1|\n",
      "|         WA|              10|\n",
      "|         AL|               7|\n",
      "|         IN|               7|\n",
      "+-----------+----------------+\n",
      "only showing top 20 rows\n",
      "\n"
     ]
    }
   ],
   "source": [
    "spark.sql(\"select OriginState,count(cancelled) from AirlineTable where cancelled=1 group by originstate\").show()"
   ]
  },
  {
   "cell_type": "code",
   "execution_count": 27,
   "id": "4e0cad4b",
   "metadata": {},
   "outputs": [
    {
     "name": "stdout",
     "output_type": "stream",
     "text": [
      "+------+--------+\n",
      "|Origin|count(1)|\n",
      "+------+--------+\n",
      "|   ATL|       8|\n",
      "|   ORD|       7|\n",
      "|   DFW|       6|\n",
      "|   MCO|       6|\n",
      "|   PHX|       6|\n",
      "|   IAH|       5|\n",
      "|   LAX|       5|\n",
      "|   CLE|       4|\n",
      "|   LAS|       3|\n",
      "|   IAD|       3|\n",
      "|   MIA|       3|\n",
      "|   SFO|       3|\n",
      "|   MEM|       3|\n",
      "|   BOS|       3|\n",
      "|   CLT|       3|\n",
      "|   TPA|       3|\n",
      "|   CMH|       3|\n",
      "|   EWR|       2|\n",
      "|   DEN|       2|\n",
      "|   SMF|       2|\n",
      "+------+--------+\n",
      "only showing top 20 rows\n",
      "\n"
     ]
    }
   ],
   "source": [
    "spark.sql(\"select Origin,count(*) from AirlineTable where year=2010 and month=6 group by origin order by count(*) desc\").show()"
   ]
  },
  {
   "cell_type": "code",
   "execution_count": 30,
   "id": "b0d6f885",
   "metadata": {},
   "outputs": [
    {
     "name": "stdout",
     "output_type": "stream",
     "text": [
      "+------------------------+\n",
      "|DOT_ID_Reporting_Airline|\n",
      "+------------------------+\n",
      "|                   20409|\n",
      "|                   19805|\n",
      "+------------------------+\n",
      "\n"
     ]
    }
   ],
   "source": [
    "spark.sql(\"select DOT_ID_Reporting_Airline from AirlineTable where year=2015 and month=12 and origin ='JFK'\").show()"
   ]
  },
  {
   "cell_type": "code",
   "execution_count": 31,
   "id": "89e9333f",
   "metadata": {},
   "outputs": [
    {
     "name": "stdout",
     "output_type": "stream",
     "text": [
      "+------+-------------+-------+\n",
      "|origin|sum(diverted)|RANKING|\n",
      "+------+-------------+-------+\n",
      "|   DEN|          6.0|      1|\n",
      "|   ATL|          6.0|      1|\n",
      "|   ORD|          6.0|      1|\n",
      "|   MSP|          6.0|      1|\n",
      "|   DFW|          5.0|      5|\n",
      "|   FLL|          5.0|      5|\n",
      "|   CVG|          4.0|      7|\n",
      "|   CLT|          4.0|      7|\n",
      "|   LAX|          4.0|      7|\n",
      "|   MCO|          4.0|      7|\n",
      "|   CMH|          3.0|     11|\n",
      "|   SEA|          3.0|     11|\n",
      "|   PDX|          3.0|     11|\n",
      "|   BWI|          3.0|     11|\n",
      "|   STL|          3.0|     11|\n",
      "|   PIT|          3.0|     11|\n",
      "|   DCA|          2.0|     17|\n",
      "|   PSG|          2.0|     17|\n",
      "|   BNA|          2.0|     17|\n",
      "|   IAH|          2.0|     17|\n",
      "+------+-------------+-------+\n",
      "only showing top 20 rows\n",
      "\n"
     ]
    }
   ],
   "source": [
    "spark.sql(\"select origin,sum(diverted), RANK() over(order by sum(diverted) desc) as RANKING from AirlineTable group by origin \").show()"
   ]
  },
  {
   "cell_type": "markdown",
   "id": "ce40aaf9",
   "metadata": {},
   "source": [
    "# Case Study 1\n",
    "To Calculate year wise on time flight performance"
   ]
  },
  {
   "cell_type": "code",
   "execution_count": 41,
   "id": "cd0b0902",
   "metadata": {},
   "outputs": [],
   "source": [
    "df1 = spark.sql(\"select year,count(*) as TOTAL_FLIGHT, count(arrdelay==0) as total_on_time, sum(cancelled) as TOTAL_CANCELLED, sum(diverted) as TOTAL_DIVERTED from AirlineTable group by year order by year desc;\")"
   ]
  },
  {
   "cell_type": "code",
   "execution_count": 42,
   "id": "a335b2e1",
   "metadata": {},
   "outputs": [],
   "source": [
    "df1.createOrReplaceTempView(\"AirlineTable1\")"
   ]
  },
  {
   "cell_type": "code",
   "execution_count": 44,
   "id": "1febee08",
   "metadata": {},
   "outputs": [
    {
     "name": "stdout",
     "output_type": "stream",
     "text": [
      "+----+------------+-------------+---------------+--------------+\n",
      "|year|TOTAL_FLIGHT|total_on_time|TOTAL_CANCELLED|TOTAL_DIVERTED|\n",
      "+----+------------+-------------+---------------+--------------+\n",
      "|2020|         462|          438|           24.0|           0.0|\n",
      "|2019|        1900|         1862|           34.0|           4.0|\n",
      "|2018|        1862|         1833|           24.0|           5.0|\n",
      "|2017|        1449|         1421|           22.0|           6.0|\n",
      "|2016|        1502|         1484|           17.0|           1.0|\n",
      "|2015|        1471|         1445|           19.0|           7.0|\n",
      "|2014|        1513|         1476|           31.0|           6.0|\n",
      "|2013|        1690|         1663|           22.0|           5.0|\n",
      "|2012|        1519|         1497|           20.0|           2.0|\n",
      "|2011|        1551|         1516|           29.0|           6.0|\n",
      "|2010|        1673|         1651|           19.0|           3.0|\n",
      "|2009|        1604|         1578|           19.0|           7.0|\n",
      "|2008|        1724|         1691|           30.0|           3.0|\n",
      "|2007|        1901|         1857|           38.0|           6.0|\n",
      "|2006|        1900|         1862|           30.0|           8.0|\n",
      "|2005|        1812|         1776|           33.0|           3.0|\n",
      "|2004|        1847|         1815|           29.0|           3.0|\n",
      "|2003|        1677|         1637|           35.0|           5.0|\n",
      "|2002|        1371|         1360|           11.0|           0.0|\n",
      "|2001|        1521|         1443|           71.0|           7.0|\n",
      "+----+------------+-------------+---------------+--------------+\n",
      "only showing top 20 rows\n",
      "\n"
     ]
    }
   ],
   "source": [
    "spark.sql(\"select * from AirlineTable1\").show()"
   ]
  },
  {
   "cell_type": "code",
   "execution_count": 50,
   "id": "d72abad8",
   "metadata": {},
   "outputs": [
    {
     "name": "stdout",
     "output_type": "stream",
     "text": [
      "+----+------------+-----------------+---------------+------------------+--------------+-------------------+\n",
      "|year|TOTAL_FLIGHT|  ON_TIME_PERCENT|TOTAL_CANCELLED| CANCELLED_PERCENT|TOTAL_DIVERTED|   DIVERTED_PERCENT|\n",
      "+----+------------+-----------------+---------------+------------------+--------------+-------------------+\n",
      "|2020|         462| 94.8051948051948|           24.0| 5.194805194805195|           0.0|                0.0|\n",
      "|2019|        1900|             98.0|           34.0|1.7894736842105263|           4.0|0.21052631578947367|\n",
      "|2018|        1862|98.44253490870032|           24.0| 1.288936627282492|           5.0|0.26852846401718583|\n",
      "|2017|        1449|98.06763285024155|           22.0| 1.518288474810214|           6.0| 0.4140786749482402|\n",
      "|2016|        1502|98.80159786950732|           17.0|1.1318242343541944|           1.0|0.06657789613848203|\n",
      "|2015|        1471| 98.2324949014276|           19.0|1.2916383412644459|           7.0|0.47586675730795375|\n",
      "|2014|        1513|97.55452742894911|           31.0| 2.048909451421018|           6.0| 0.3965631196298744|\n",
      "|2013|        1690|98.40236686390533|           22.0| 1.301775147928994|           5.0| 0.2958579881656805|\n",
      "|2012|        1519|98.55167873601053|           20.0| 1.316655694535879|           2.0| 0.1316655694535879|\n",
      "|2011|        1551|97.74339136041263|           29.0|1.8697614442295294|           6.0|0.38684719535783363|\n",
      "|2010|        1673|98.68499701135684|           19.0|1.1356843992827257|           3.0|0.17931858936043035|\n",
      "|2009|        1604| 98.3790523690773|           19.0|1.1845386533665836|           7.0|0.43640897755610975|\n",
      "|2008|        1724|98.08584686774942|           30.0| 1.740139211136891|           3.0| 0.1740139211136891|\n",
      "|2007|        1901| 97.6854287217254|           38.0|1.9989479221462387|           6.0| 0.3156233561283535|\n",
      "|2006|        1900|             98.0|           30.0|1.5789473684210527|           8.0|0.42105263157894735|\n",
      "|2005|        1812|98.01324503311258|           33.0|1.8211920529801324|           3.0|0.16556291390728478|\n",
      "|2004|        1847|98.26746074715756|           29.0|1.5701136978884678|           3.0|0.16242555495397942|\n",
      "|2003|        1677|97.61478831246274|           35.0|2.0870602265951104|           5.0| 0.2981514609421586|\n",
      "|2002|        1371|99.19766593727206|           11.0|0.8023340627279358|           0.0|                0.0|\n",
      "|2001|        1521|94.87179487179488|           71.0| 4.667981591058514|           7.0|0.46022353714661407|\n",
      "+----+------------+-----------------+---------------+------------------+--------------+-------------------+\n",
      "only showing top 20 rows\n",
      "\n"
     ]
    }
   ],
   "source": [
    "spark.sql(\"SELECT year, TOTAL_FLIGHT, total_on_time * 100 / TOTAL_FLIGHT AS ON_TIME_PERCENT, TOTAL_CANCELLED, TOTAL_CANCELLED * 100 / TOTAL_FLIGHT AS CANCELLED_PERCENT, TOTAL_DIVERTED, TOTAL_DIVERTED * 100 / TOTAL_FLIGHT AS DIVERTED_PERCENT FROM AirlineTable1\").show()\n"
   ]
  },
  {
   "cell_type": "code",
   "execution_count": 58,
   "id": "fca0630f",
   "metadata": {},
   "outputs": [],
   "source": [
    "df2 = spark.sql(\"select origincityname,count(*) AS TOTAL_FLIGHT ,count(arrdelay==0) AS TOTAL_ON_TIME,sum(cancelled) AS TOTAL_CANCELLED,sum(diverted) AS TOTAL_DIRVERTED from AirlineTable where group by origincityname;\")"
   ]
  },
  {
   "cell_type": "code",
   "execution_count": 59,
   "id": "f9239346",
   "metadata": {},
   "outputs": [],
   "source": [
    "df2.createOrReplaceTempView(\"AirlineTable2\")"
   ]
  },
  {
   "cell_type": "code",
   "execution_count": 60,
   "id": "5385bd19",
   "metadata": {},
   "outputs": [
    {
     "name": "stdout",
     "output_type": "stream",
     "text": [
      "+------------------+------------+-------------+---------------+---------------+\n",
      "|    origincityname|TOTAL_FLIGHT|TOTAL_ON_TIME|TOTAL_CANCELLED|TOTAL_DIRVERTED|\n",
      "+------------------+------------+-------------+---------------+---------------+\n",
      "|   Gainesville, FL|          18|           18|            0.0|            0.0|\n",
      "|      Richmond, VA|         146|          141|            5.0|            0.0|\n",
      "|        Tucson, AZ|         157|          155|            2.0|            0.0|\n",
      "|       Ontario, CA|         270|          266|            3.0|            1.0|\n",
      "|        Pierre, SD|           1|            1|            0.0|            0.0|\n",
      "|       Medford, OR|          21|           21|            0.0|            0.0|\n",
      "|  Myrtle Beach, SC|          41|           40|            1.0|            0.0|\n",
      "|  Palm Springs, CA|          85|           80|            3.0|            2.0|\n",
      "|       Redding, CA|           8|            8|            0.0|            0.0|\n",
      "|       Durango, CO|           9|            9|            0.0|            0.0|\n",
      "|Corpus Christi, TX|          48|           48|            0.0|            0.0|\n",
      "|        Mobile, AL|          33|           33|            0.0|            0.0|\n",
      "|    Fort Myers, FL|         193|          189|            4.0|            0.0|\n",
      "|    Huntsville, AL|          67|           62|            5.0|            0.0|\n",
      "|     Pensacola, FL|          73|           72|            1.0|            0.0|\n",
      "|      Columbus, GA|          14|           14|            0.0|            0.0|\n",
      "|   Springfield, IL|          12|           11|            1.0|            0.0|\n",
      "|         Aspen, CO|          18|           16|            2.0|            0.0|\n",
      "|      San Juan, PR|         181|          179|            2.0|            0.0|\n",
      "|Montrose/Delta, CO|           9|            9|            0.0|            0.0|\n",
      "+------------------+------------+-------------+---------------+---------------+\n",
      "only showing top 20 rows\n",
      "\n"
     ]
    }
   ],
   "source": [
    "spark.sql(\"select * from AirlineTable2\").show()"
   ]
  },
  {
   "cell_type": "code",
   "execution_count": 61,
   "id": "8bce4709",
   "metadata": {},
   "outputs": [
    {
     "name": "stdout",
     "output_type": "stream",
     "text": [
      "+------------------+------------+-------------+-----------------+---------------+------------------+---------------+-------------------+\n",
      "|    origincityname|TOTAL_FLIGHT|TOTAL_ON_TIME|      ON_TIME_PER|TOTAL_CANCELLED|     CANCELLED_PER|TOTAL_DIRVERTED|       DIVERTED_PER|\n",
      "+------------------+------------+-------------+-----------------+---------------+------------------+---------------+-------------------+\n",
      "|   Gainesville, FL|          18|           18|            100.0|            0.0|               0.0|            0.0|                0.0|\n",
      "|      Richmond, VA|         146|          141|96.57534246575342|            5.0|3.4246575342465753|            0.0|                0.0|\n",
      "|        Tucson, AZ|         157|          155|98.72611464968153|            2.0|1.2738853503184713|            0.0|                0.0|\n",
      "|       Ontario, CA|         270|          266|98.51851851851852|            3.0|1.1111111111111112|            1.0|0.37037037037037035|\n",
      "|        Pierre, SD|           1|            1|            100.0|            0.0|               0.0|            0.0|                0.0|\n",
      "|       Medford, OR|          21|           21|            100.0|            0.0|               0.0|            0.0|                0.0|\n",
      "|  Myrtle Beach, SC|          41|           40| 97.5609756097561|            1.0|2.4390243902439024|            0.0|                0.0|\n",
      "|  Palm Springs, CA|          85|           80|94.11764705882354|            3.0|3.5294117647058822|            2.0| 2.3529411764705883|\n",
      "|       Redding, CA|           8|            8|            100.0|            0.0|               0.0|            0.0|                0.0|\n",
      "|       Durango, CO|           9|            9|            100.0|            0.0|               0.0|            0.0|                0.0|\n",
      "|Corpus Christi, TX|          48|           48|            100.0|            0.0|               0.0|            0.0|                0.0|\n",
      "|        Mobile, AL|          33|           33|            100.0|            0.0|               0.0|            0.0|                0.0|\n",
      "|    Fort Myers, FL|         193|          189|97.92746113989638|            4.0|2.0725388601036268|            0.0|                0.0|\n",
      "|    Huntsville, AL|          67|           62|92.53731343283582|            5.0| 7.462686567164179|            0.0|                0.0|\n",
      "|     Pensacola, FL|          73|           72|98.63013698630137|            1.0|  1.36986301369863|            0.0|                0.0|\n",
      "|      Columbus, GA|          14|           14|            100.0|            0.0|               0.0|            0.0|                0.0|\n",
      "|   Springfield, IL|          12|           11|91.66666666666667|            1.0| 8.333333333333334|            0.0|                0.0|\n",
      "|         Aspen, CO|          18|           16|88.88888888888889|            2.0| 11.11111111111111|            0.0|                0.0|\n",
      "|      San Juan, PR|         181|          179|98.89502762430939|            2.0|1.1049723756906078|            0.0|                0.0|\n",
      "|Montrose/Delta, CO|           9|            9|            100.0|            0.0|               0.0|            0.0|                0.0|\n",
      "+------------------+------------+-------------+-----------------+---------------+------------------+---------------+-------------------+\n",
      "only showing top 20 rows\n",
      "\n"
     ]
    }
   ],
   "source": [
    "spark.sql(\"select origincityname,TOTAL_FLIGHT,TOTAL_ON_TIME,TOTAL_ON_TIME*100/TOTAL_FLIGHT AS ON_TIME_PER,TOTAL_CANCELLED,TOTAL_CANCELLED*100/TOTAL_FLIGHT AS CANCELLED_PER,TOTAL_DIRVERTED,TOTAL_DIRVERTED*100/TOTAL_FLIGHT AS DIVERTED_PER from AirlineTable2;\").show()"
   ]
  },
  {
   "cell_type": "code",
   "execution_count": 62,
   "id": "2fc6b8c1",
   "metadata": {},
   "outputs": [
    {
     "name": "stdout",
     "output_type": "stream",
     "text": [
      "+------+--------------------+--------+\n",
      "|origin|      origincityname|count(1)|\n",
      "+------+--------------------+--------+\n",
      "|   COS|Colorado Springs, CO|     100|\n",
      "|   SDF|      Louisville, KY|     175|\n",
      "|   CLL|College Station/B...|      10|\n",
      "|   PIR|          Pierre, SD|       1|\n",
      "|   MSN|         Madison, WI|      81|\n",
      "|   EVV|      Evansville, IN|      18|\n",
      "|   CMI|Champaign/Urbana, IL|      10|\n",
      "|   GTR|        Columbus, MS|       2|\n",
      "|   RIC|        Richmond, VA|     146|\n",
      "|   STX|   Christiansted, VI|      11|\n",
      "|   FLO|        Florence, SC|       4|\n",
      "|   DCA|      Washington, DC|     704|\n",
      "|   IPL|       El Centro, CA|       1|\n",
      "|   ITO|            Hilo, HI|      26|\n",
      "|   MSP|     Minneapolis, MN|    1128|\n",
      "|   AVL|       Asheville, NC|      29|\n",
      "|   CHS|      Charleston, SC|     109|\n",
      "|   PIT|      Pittsburgh, PA|     641|\n",
      "|   MYR|    Myrtle Beach, SC|      41|\n",
      "|   SLC|  Salt Lake City, UT|     830|\n",
      "+------+--------------------+--------+\n",
      "only showing top 20 rows\n",
      "\n"
     ]
    }
   ],
   "source": [
    "spark.sql(\"select origin,origincityname,count(*) from AirlineTable group by origin,origincityname;\").show()"
   ]
  },
  {
   "cell_type": "code",
   "execution_count": 52,
   "id": "de49dfa7",
   "metadata": {},
   "outputs": [
    {
     "name": "stdout",
     "output_type": "stream",
     "text": [
      "+------------------------------------------------------------------------------------------------+------+--------------------+--------+\n",
      "|RANK() OVER (ORDER BY count(1) DESC NULLS LAST ROWS BETWEEN UNBOUNDED PRECEDING AND CURRENT ROW)|origin|      origincityname|count(1)|\n",
      "+------------------------------------------------------------------------------------------------+------+--------------------+--------+\n",
      "|                                                                                               1|   ATL|         Atlanta, GA|    2669|\n",
      "|                                                                                               2|   ORD|         Chicago, IL|    2536|\n",
      "|                                                                                               3|   DFW|Dallas/Fort Worth...|    2188|\n",
      "|                                                                                               4|   LAX|     Los Angeles, CA|    1718|\n",
      "|                                                                                               5|   DEN|          Denver, CO|    1592|\n",
      "|                                                                                               6|   PHX|         Phoenix, AZ|    1340|\n",
      "|                                                                                               7|   IAH|         Houston, TX|    1212|\n",
      "|                                                                                               8|   DTW|         Detroit, MI|    1190|\n",
      "|                                                                                               9|   MSP|     Minneapolis, MN|    1128|\n",
      "|                                                                                               9|   SFO|   San Francisco, CA|    1128|\n",
      "|                                                                                              11|   LAS|       Las Vegas, NV|    1112|\n",
      "|                                                                                              12|   EWR|          Newark, NJ|    1032|\n",
      "|                                                                                              13|   CLT|       Charlotte, NC|     994|\n",
      "|                                                                                              14|   LGA|        New York, NY|     954|\n",
      "|                                                                                              15|   MCO|         Orlando, FL|     890|\n",
      "|                                                                                              16|   BOS|          Boston, MA|     884|\n",
      "|                                                                                              17|   SEA|         Seattle, WA|     855|\n",
      "|                                                                                              18|   STL|       St. Louis, MO|     846|\n",
      "|                                                                                              19|   SLC|  Salt Lake City, UT|     830|\n",
      "|                                                                                              20|   PHL|    Philadelphia, PA|     784|\n",
      "+------------------------------------------------------------------------------------------------+------+--------------------+--------+\n",
      "only showing top 20 rows\n",
      "\n"
     ]
    }
   ],
   "source": [
    "spark.sql(\"select rank() over (ORDER BY count(*)desc),origin,origincityname,count(*) from AirlineTable where group by origin,origincityname;\").show()"
   ]
  },
  {
   "cell_type": "code",
   "execution_count": 53,
   "id": "b346befc",
   "metadata": {},
   "outputs": [
    {
     "name": "stdout",
     "output_type": "stream",
     "text": [
      "+-------+--------+\n",
      "|AirTime|Distance|\n",
      "+-------+--------+\n",
      "|  153.0|   991.0|\n",
      "|  141.0|  1066.0|\n",
      "|  103.0|   773.0|\n",
      "|  220.0|  1979.0|\n",
      "|   80.0|   529.0|\n",
      "|   28.0|   190.0|\n",
      "|   94.0|   563.0|\n",
      "|   35.0|   192.0|\n",
      "|   59.0|   316.0|\n",
      "|  114.0|   793.0|\n",
      "|   NULL|   109.0|\n",
      "|   77.0|   562.0|\n",
      "|   NULL|  1045.0|\n",
      "|   95.0|   677.0|\n",
      "|   99.0|   733.0|\n",
      "|   NULL|   278.0|\n",
      "|   24.0|    98.0|\n",
      "|  102.0|   689.0|\n",
      "|  255.0|  2288.0|\n",
      "|   NULL|   373.0|\n",
      "+-------+--------+\n",
      "only showing top 20 rows\n",
      "\n"
     ]
    }
   ],
   "source": [
    "spark.sql(\"select AirTime,Distance from AirlineTable\").show()"
   ]
  },
  {
   "cell_type": "code",
   "execution_count": 54,
   "id": "bf049624",
   "metadata": {},
   "outputs": [],
   "source": [
    "df3 = spark.sql(\"select AirTime/60 As AirTime_Hour,Distance from AirlineTable\")"
   ]
  },
  {
   "cell_type": "code",
   "execution_count": 56,
   "id": "7159879b",
   "metadata": {},
   "outputs": [],
   "source": [
    "df3.createOrReplaceTempView(\"AirlineTable3\")"
   ]
  },
  {
   "cell_type": "code",
   "execution_count": 63,
   "id": "34e1c191",
   "metadata": {},
   "outputs": [
    {
     "name": "stdout",
     "output_type": "stream",
     "text": [
      "+------------------+--------+------------------+\n",
      "|      AirTime_Hour|Distance|               mph|\n",
      "+------------------+--------+------------------+\n",
      "|              2.55|   991.0| 388.6274509803922|\n",
      "|              2.35|  1066.0| 453.6170212765957|\n",
      "|1.7166666666666666|   773.0|450.29126213592235|\n",
      "|3.6666666666666665|  1979.0| 539.7272727272727|\n",
      "|1.3333333333333333|   529.0|            396.75|\n",
      "|0.4666666666666667|   190.0| 407.1428571428571|\n",
      "|1.5666666666666667|   563.0|359.36170212765956|\n",
      "|0.5833333333333334|   192.0| 329.1428571428571|\n",
      "|0.9833333333333333|   316.0|321.35593220338984|\n",
      "|               1.9|   793.0| 417.3684210526316|\n",
      "|              NULL|   109.0|              NULL|\n",
      "|1.2833333333333334|   562.0| 437.9220779220779|\n",
      "|              NULL|  1045.0|              NULL|\n",
      "|1.5833333333333333|   677.0| 427.5789473684211|\n",
      "|              1.65|   733.0|444.24242424242425|\n",
      "|              NULL|   278.0|              NULL|\n",
      "|               0.4|    98.0|             245.0|\n",
      "|               1.7|   689.0|405.29411764705884|\n",
      "|              4.25|  2288.0| 538.3529411764706|\n",
      "|              NULL|   373.0|              NULL|\n",
      "+------------------+--------+------------------+\n",
      "only showing top 20 rows\n",
      "\n"
     ]
    }
   ],
   "source": [
    "spark.sql(\"select AirTime_Hour,Distance, Distance/AirTime_Hour as mph from AirlineTable3\").show()"
   ]
  },
  {
   "cell_type": "code",
   "execution_count": 66,
   "id": "73d7589d",
   "metadata": {},
   "outputs": [],
   "source": [
    "df4 = spark.sql(\"select AirTime_Hour,Distance, Distance/AirTime_Hour as mph from AirlineTable3\")\n",
    "df4.createOrReplaceTempView(\"AirlineTable4\")"
   ]
  },
  {
   "cell_type": "code",
   "execution_count": 67,
   "id": "ba6b77b1",
   "metadata": {},
   "outputs": [
    {
     "name": "stdout",
     "output_type": "stream",
     "text": [
      "+--------+\n",
      "|max(mph)|\n",
      "+--------+\n",
      "| 17520.0|\n",
      "+--------+\n",
      "\n"
     ]
    }
   ],
   "source": [
    "spark.sql(\"select max(mph) from AirlineTable4\").show()"
   ]
  },
  {
   "cell_type": "code",
   "execution_count": null,
   "id": "6187b243",
   "metadata": {},
   "outputs": [],
   "source": []
  }
 ],
 "metadata": {
  "kernelspec": {
   "display_name": "Python 3 (ipykernel)",
   "language": "python",
   "name": "python3"
  },
  "language_info": {
   "codemirror_mode": {
    "name": "ipython",
    "version": 3
   },
   "file_extension": ".py",
   "mimetype": "text/x-python",
   "name": "python",
   "nbconvert_exporter": "python",
   "pygments_lexer": "ipython3",
   "version": "3.9.7"
  }
 },
 "nbformat": 4,
 "nbformat_minor": 5
}
